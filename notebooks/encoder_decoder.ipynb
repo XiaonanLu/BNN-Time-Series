{
  "nbformat": 4,
  "nbformat_minor": 0,
  "metadata": {
    "colab": {
      "name": "Untitled12.ipynb",
      "provenance": [],
      "authorship_tag": "ABX9TyNnvk2O/RAtggLh+Kc8satF",
      "include_colab_link": true
    },
    "kernelspec": {
      "name": "python3",
      "display_name": "Python 3"
    },
    "language_info": {
      "name": "python"
    }
  },
  "cells": [
    {
      "cell_type": "markdown",
      "metadata": {
        "id": "view-in-github",
        "colab_type": "text"
      },
      "source": [
        "<a href=\"https://colab.research.google.com/github/XiaonanLu/BNN-Time-Series/blob/main/notebooks/encoder_decoder.ipynb\" target=\"_parent\"><img src=\"https://colab.research.google.com/assets/colab-badge.svg\" alt=\"Open In Colab\"/></a>"
      ]
    },
    {
      "cell_type": "code",
      "execution_count": null,
      "metadata": {
        "id": "yoH8iixqF9Sz"
      },
      "outputs": [],
      "source": [
        "# allows for import from `src` directory\n",
        "import sys \n",
        "sys.path.append('../')\n",
        "\n",
        "from src import data\n",
        "\n",
        "n_input_steps  = 48\n",
        "n_output_steps = 12\n",
        "\n",
        "# run the preprocessing pipeline\n",
        "df, split_dfs, samples = data.pipeline(n_input_steps, n_output_steps)"
      ]
    }
  ]
}